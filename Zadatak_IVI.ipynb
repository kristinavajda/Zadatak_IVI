{
  "nbformat": 4,
  "nbformat_minor": 0,
  "metadata": {
    "colab": {
      "provenance": [],
      "gpuType": "V28"
    },
    "kernelspec": {
      "name": "python3",
      "display_name": "Python 3"
    },
    "language_info": {
      "name": "python"
    },
    "accelerator": "TPU"
  },
  "cells": [
    {
      "cell_type": "markdown",
      "source": [
        "# Učitavanje potrebnih biblioteka i mamograma"
      ],
      "metadata": {
        "id": "_MYdemXcLbo7"
      }
    },
    {
      "cell_type": "markdown",
      "source": [
        "## Učitavanje biblioteka"
      ],
      "metadata": {
        "id": "C9bf1KBqL6FG"
      }
    },
    {
      "cell_type": "code",
      "source": [
        "pip install pydicom"
      ],
      "metadata": {
        "colab": {
          "base_uri": "https://localhost:8080/"
        },
        "id": "UIxvteUIj1_I",
        "outputId": "3a1a511d-6296-430e-ebe7-07349c64dbc7"
      },
      "execution_count": 1,
      "outputs": [
        {
          "output_type": "stream",
          "name": "stdout",
          "text": [
            "Collecting pydicom\n",
            "  Downloading pydicom-3.0.1-py3-none-any.whl.metadata (9.4 kB)\n",
            "Downloading pydicom-3.0.1-py3-none-any.whl (2.4 MB)\n",
            "\u001b[2K   \u001b[90m━━━━━━━━━━━━━━━━━━━━━━━━━━━━━━━━━━━━━━━━\u001b[0m \u001b[32m2.4/2.4 MB\u001b[0m \u001b[31m22.5 MB/s\u001b[0m eta \u001b[36m0:00:00\u001b[0m\n",
            "\u001b[?25hInstalling collected packages: pydicom\n",
            "Successfully installed pydicom-3.0.1\n"
          ]
        }
      ]
    },
    {
      "cell_type": "code",
      "source": [
        "from google.colab import drive\n",
        "drive.mount('/content/drive')"
      ],
      "metadata": {
        "colab": {
          "base_uri": "https://localhost:8080/"
        },
        "id": "C9UPNb7Ij4uB",
        "outputId": "0dcf9856-2af6-448e-bc6f-bab83fd80678"
      },
      "execution_count": 5,
      "outputs": [
        {
          "output_type": "stream",
          "name": "stdout",
          "text": [
            "Drive already mounted at /content/drive; to attempt to forcibly remount, call drive.mount(\"/content/drive\", force_remount=True).\n"
          ]
        }
      ]
    },
    {
      "cell_type": "code",
      "source": [
        "import cv2\n",
        "import os\n",
        "import pydicom\n",
        "import numpy as np\n",
        "import matplotlib.pyplot as plt\n",
        "import tensorflow as tf\n",
        "import pandas as pd"
      ],
      "metadata": {
        "id": "hrooeCinkNnc"
      },
      "execution_count": 6,
      "outputs": []
    },
    {
      "cell_type": "markdown",
      "source": [
        "## Validacija i učitavanja mamograma"
      ],
      "metadata": {
        "id": "bQ676tsVL-oV"
      }
    },
    {
      "cell_type": "code",
      "source": [
        "putanja = \"/content/drive/MyDrive/zadatak\""
      ],
      "metadata": {
        "id": "o0hpmkzw0X5N"
      },
      "execution_count": 9,
      "outputs": []
    },
    {
      "cell_type": "code",
      "source": [
        "def validiranje(slike):\n",
        "    for i, slika in enumerate(slike):\n",
        "        if slika is None or len(slika.shape) != 2:\n",
        "            print(f\"Slika {i} nije ucitana ili nema odgovarajuce dimenzije\")\n",
        "\n",
        "        min_vrednost, max_vrednost = np.min(slika), np.max(slika)\n",
        "        if min_vrednost < 0 or max_vrednost > 65535:\n",
        "            print(f\"Slika {i} ima neispravan raspon piksela: {min_vrednost} - {max_vrednost}\")"
      ],
      "metadata": {
        "id": "C6S4v0Na0Zpw"
      },
      "execution_count": 10,
      "outputs": []
    },
    {
      "cell_type": "code",
      "source": [
        "def ucitavanje_slika(putanja_do_foldera):\n",
        "    slike = []\n",
        "    file_names = []\n",
        "    for file_name in os.listdir(putanja_do_foldera):\n",
        "        if file_name.endswith(\".dcm\"):\n",
        "            fajl = os.path.join(putanja_do_foldera, file_name)\n",
        "            try:\n",
        "                dicom_slika = pydicom.dcmread(fajl)\n",
        "                img = dicom_slika.pixel_array\n",
        "                slike.append(img)\n",
        "                file_names.append(file_name)\n",
        "\n",
        "            except Exception as e:\n",
        "                print(f\"Greska {file_name}: {e}\")\n",
        "    return slike, file_names\n",
        "\n",
        "slike, file_names = ucitavanje_slika(putanja)\n",
        "print(\"Slike su uctiane\")\n",
        "validiranje(slike)"
      ],
      "metadata": {
        "colab": {
          "base_uri": "https://localhost:8080/"
        },
        "id": "ZEmNdaSi0bSA",
        "outputId": "4ad172d0-0441-4773-ef44-8e540e1efb49"
      },
      "execution_count": 11,
      "outputs": [
        {
          "output_type": "stream",
          "name": "stdout",
          "text": [
            "Slike su uctiane\n"
          ]
        }
      ]
    },
    {
      "cell_type": "markdown",
      "source": [
        "# Preprocesing"
      ],
      "metadata": {
        "id": "TLg2khCxLgGG"
      }
    },
    {
      "cell_type": "code",
      "source": [
        "def primena_clahe(slika):\n",
        "    slika = cv2.normalize(slika, None, alpha = 0, beta = 255, norm_type = cv2.NORM_MINMAX)\n",
        "    slika = slika.astype(np.uint8)\n",
        "    slika = cv2.medianBlur(slika, 5)\n",
        "    clahe = cv2.createCLAHE(clipLimit = 1.0, tileGridSize = (16, 16))\n",
        "    slika = clahe.apply(slika)\n",
        "    return slika"
      ],
      "metadata": {
        "id": "OqFsPvzr0do2"
      },
      "execution_count": 12,
      "outputs": []
    },
    {
      "cell_type": "code",
      "source": [
        "def preprocesiranje(slika, target_size = (512, 512)):\n",
        "    slika = primena_clahe(slika)\n",
        "    slika = cv2.resize(slika, target_size)\n",
        "    return slika\n",
        "\n",
        "preprocesirane_slike = [preprocesiranje(img) for img in slike]"
      ],
      "metadata": {
        "id": "N__IiUIZ0gDs"
      },
      "execution_count": 13,
      "outputs": []
    },
    {
      "cell_type": "markdown",
      "source": [
        "## Histogrami"
      ],
      "metadata": {
        "id": "Nji6xJB9LnT9"
      }
    },
    {
      "cell_type": "code",
      "source": [
        "plt.figure(figsize = (12, 6))\n",
        "plt.subplot(1, 2, 1)\n",
        "plt.hist(slike[0].ravel(), bins = 256, color = 'red', alpha = 0.7)\n",
        "plt.title(\"Histogram originalne slike\")\n",
        "\n",
        "plt.subplot(1, 2, 2)\n",
        "plt.hist(preprocesirane_slike[0].ravel(), bins = 256, color = 'blue', alpha = 0.7)\n",
        "plt.title(\"Histogram preprocesirane slike\")\n",
        "plt.show()"
      ],
      "metadata": {
        "id": "-68La8mt0jcQ",
        "colab": {
          "base_uri": "https://localhost:8080/",
          "height": 545
        },
        "outputId": "7c85bb59-03d5-431b-ef79-10b5430b851b"
      },
      "execution_count": 14,
      "outputs": [
        {
          "output_type": "display_data",
          "data": {
            "text/plain": [
              "<Figure size 1200x600 with 2 Axes>"
            ],
            "image/png": "[encoded data removed]"
          },
          "metadata": {}
        }
      ]
    },
    {
      "cell_type": "markdown",
      "source": [
        "Na levom histogramu prikazana je distribucija intenziteta piksela originalnih DICOM slika. Većina piksela ima intenzitet blizu nule, što može značiti da su slike u možda tamne ili imaju nizak kontrast.\n",
        "\n",
        "Na desnom histogramu prikazana je distribucija intenziteta piksela nakon preprocesiranja. Intenzitet je redistribuiran u širem opsegu (0–255), što znači da je kontrast poboljšan. Ova redistribucija bi trebalo da omogući modelima mašinskog učenja da bolje identifikuju važne karakteristike na slikama. Redistribucija intenziteta potvrđuje da je algoritam uspešno poboljšao kontrast.\n"
      ],
      "metadata": {
        "id": "BTuVf6mPMVCX"
      }
    },
    {
      "cell_type": "markdown",
      "source": [
        "# Klasifikacija"
      ],
      "metadata": {
        "id": "jXLvS_MOJz09"
      }
    },
    {
      "cell_type": "markdown",
      "source": [
        "## Priprema skupa podataka"
      ],
      "metadata": {
        "id": "awPnu7cmLsg3"
      }
    },
    {
      "cell_type": "code",
      "source": [
        "X = np.array(preprocesirane_slike)\n",
        "\n",
        "X = X[..., np.newaxis]\n",
        "X = np.repeat(X, 3, axis=-1)\n",
        "print(\"Skup podataka: \", X.shape)"
      ],
      "metadata": {
        "id": "PIqHFsPykHGw",
        "colab": {
          "base_uri": "https://localhost:8080/"
        },
        "outputId": "b92b2663-02ed-4988-b212-64431671ff56"
      },
      "execution_count": 15,
      "outputs": [
        {
          "output_type": "stream",
          "name": "stdout",
          "text": [
            "Skup podataka:  (10, 512, 512, 3)\n"
          ]
        }
      ]
    },
    {
      "cell_type": "markdown",
      "source": [
        "## Učitavanje pretreniranog modela"
      ],
      "metadata": {
        "id": "WleRtTsWJsfD"
      }
    },
    {
      "cell_type": "code",
      "source": [
        "model_path = '/content/drive/MyDrive/model_vgg16.keras'\n",
        "model = tf.keras.models.load_model(model_path)"
      ],
      "metadata": {
        "id": "y8oKLo5-HNqO"
      },
      "execution_count": 8,
      "outputs": []
    },
    {
      "cell_type": "code",
      "source": [
        "model_path2 = '/content/drive/MyDrive/model_vgg16_birads.keras'\n",
        "model2 = tf.keras.models.load_model(model_path2)"
      ],
      "metadata": {
        "id": "H98l3yGxKu0x"
      },
      "execution_count": 7,
      "outputs": []
    },
    {
      "cell_type": "markdown",
      "source": [
        "## Predikcija"
      ],
      "metadata": {
        "id": "NSUEN4RhJ2sD"
      }
    },
    {
      "cell_type": "code",
      "source": [
        "predikcije = model.predict(X)\n",
        "klase_0_1 = np.argmax(predikcije, axis=1)\n",
        "klase = [\"nesuspektna\" if kls == 0 else \"suspektna\" for kls in klase_0_1]\n",
        "\n",
        "output_df = pd.DataFrame({\n",
        "    \"Naziv slike\": file_names,\n",
        "    \"Predikcija\": klase})\n",
        "\n",
        "output_putanja = '/content/drive/MyDrive/predikcije.csv'\n",
        "output_df.to_csv(output_putanja, index=False)\n",
        "print(f\"Predikcije su sacuvane\")\n"
      ],
      "metadata": {
        "id": "2jGNrBQOH0_W",
        "colab": {
          "base_uri": "https://localhost:8080/"
        },
        "outputId": "6055d7f5-076f-439b-fb66-e24af4f0c19b"
      },
      "execution_count": 16,
      "outputs": [
        {
          "output_type": "stream",
          "name": "stdout",
          "text": [
            "1/1 [==============================] - 11s 11s/step\n",
            "Predikcije su sacuvane\n"
          ]
        }
      ]
    },
    {
      "cell_type": "code",
      "source": [
        "predikcije = model.predict(X)\n",
        "klase_0_4 = np.argmax(predikcije, axis=1)\n",
        "klase = [\"Bi-rads 1\", \"Bi-rads 2\", \"Bi-rads 3\", \"Bi-rads 4\", \"Bi-rads 5\"]\n",
        "predikcije = [klase[kls] for kls in klase_0_4]\n",
        "\n",
        "output_df = pd.DataFrame({\n",
        "    \"Naziv slike\": file_names,\n",
        "    \"Predikcija\": predikcije})\n",
        "\n",
        "output_putanja = '/content/drive/MyDrive/predikcije_birads.csv'\n",
        "output_df.to_csv(output_putanja, index=False)\n",
        "print(f\"Predikcije su sacuvane\")"
      ],
      "metadata": {
        "id": "X8HtbRFvKoYs",
        "colab": {
          "base_uri": "https://localhost:8080/"
        },
        "outputId": "eb8148d2-0ebc-44b5-dd7c-bc1faa513081"
      },
      "execution_count": 17,
      "outputs": [
        {
          "output_type": "stream",
          "name": "stdout",
          "text": [
            "1/1 [==============================] - 11s 11s/step\n",
            "Predikcije su sacuvane\n"
          ]
        }
      ]
    },
    {
      "cell_type": "code",
      "source": [],
      "metadata": {
        "id": "WKg8qsEJcPMj"
      },
      "execution_count": null,
      "outputs": []
    }
  ]
}